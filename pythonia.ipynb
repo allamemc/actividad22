{
 "cells": [
  {
   "cell_type": "markdown",
   "metadata": {},
   "source": [
    "PYTHON IA\n",
    "\n",
    "https://www.analyticslane.com/2018/07/06/agrupacion-de-datos-por-fecha-en-pandas/\n",
    "\n",
    "https://aprendeia.com/agrupando-los-datos-con-python/\n",
    "\n",
    "con unitsinstock vamos a hacer grupos\n",
    "0-50 stock critico\n",
    "51-100 stock normal\n",
    "101-500 stock abusivo"
   ]
  },
  {
   "cell_type": "code",
   "execution_count": 6,
   "metadata": {},
   "outputs": [
    {
     "name": "stdout",
     "output_type": "stream",
     "text": [
      "0        (0.0, 50.0]\n",
      "1        (0.0, 50.0]\n",
      "2        (0.0, 50.0]\n",
      "3      (50.0, 100.0]\n",
      "4                NaN\n",
      "           ...      \n",
      "72    (100.0, 500.0]\n",
      "73       (0.0, 50.0]\n",
      "74    (100.0, 500.0]\n",
      "75     (50.0, 100.0]\n",
      "76       (0.0, 50.0]\n",
      "Name: unitsInStock, Length: 77, dtype: category\n",
      "Categories (3, interval[int64, right]): [(0, 50] < (50, 100] < (100, 500]]\n"
     ]
    },
    {
     "name": "stderr",
     "output_type": "stream",
     "text": [
      "C:\\Users\\Tecnicos\\AppData\\Local\\Temp\\ipykernel_5200\\2947403432.py:8: SettingWithCopyWarning: \n",
      "A value is trying to be set on a copy of a slice from a DataFrame.\n",
      "Try using .loc[row_indexer,col_indexer] = value instead\n",
      "\n",
      "See the caveats in the documentation: https://pandas.pydata.org/pandas-docs/stable/user_guide/indexing.html#returning-a-view-versus-a-copy\n",
      "  df[\"unitsInStock\"] = pd.cut(df[\"unitsInStock\"], bins,grupos)\n"
     ]
    }
   ],
   "source": [
    "import pandas as pd\n",
    "\n",
    "products = pd.read_csv('products.csv')\n",
    "# print(products)\n",
    "df = products[[\"unitsInStock\"]]\n",
    "bins=[0,50,100,500]\n",
    "grupos=[\"stock critico\",\"stock normal\",\"stock abusivo\"]\n",
    "df[\"unitsInStock\"] = pd.cut(df[\"unitsInStock\"], bins,grupos)\n",
    "print(df[\"unitsInStock\"])\n"
   ]
  },
  {
   "cell_type": "code",
   "execution_count": 73,
   "metadata": {},
   "outputs": [
    {
     "data": {
      "text/plain": [
       "<AxesSubplot:ylabel='date'>"
      ]
     },
     "execution_count": 73,
     "metadata": {},
     "output_type": "execute_result"
    },
    {
     "data": {
      "image/png": "[encoded data removed]",
      "text/plain": [
       "<Figure size 640x480 with 1 Axes>"
      ]
     },
     "metadata": {},
     "output_type": "display_data"
    }
   ],
   "source": [
    "import datetime\n",
    "import numpy as np\n",
    "import pandas as pd\n",
    "df = pd.DataFrame()\n",
    "date = [datetime.datetime(2018, 1, 1) + datetime.timedelta(days=x) for x in range(0, 365)]\n",
    "value = list(np.random.randint(low=0, high=100, size=365))\n",
    "df['date'] = pd.to_datetime(date)\n",
    "df.index = df['date']\n",
    "df['value'] = value\n",
    "# print(df['date'])\n",
    "# print(df['value'])\n",
    "\n",
    "\n",
    "\n",
    "# Reto \n",
    "# Diseña un grafico de barras para mostar la media de datos por trimestre\n",
    "x=df.groupby(df['date'].dt.quarter).mean()\n",
    "x.plot.barh()\n",
    "\n",
    "\n"
   ]
  }
 ],
 "metadata": {
  "kernelspec": {
   "display_name": "Python 3.9.13 ('base')",
   "language": "python",
   "name": "python3"
  },
  "language_info": {
   "codemirror_mode": {
    "name": "ipython",
    "version": 3
   },
   "file_extension": ".py",
   "mimetype": "text/x-python",
   "name": "python",
   "nbconvert_exporter": "python",
   "pygments_lexer": "ipython3",
   "version": "3.9.13"
  },
  "orig_nbformat": 4,
  "vscode": {
   "interpreter": {
    "hash": "1a42b241b8edb5242d83f10cbc6c8dbf6b7f154ec46d832084af6202598a5d27"
   }
  }
 },
 "nbformat": 4,
 "nbformat_minor": 2
}
